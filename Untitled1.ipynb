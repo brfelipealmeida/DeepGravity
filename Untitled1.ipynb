{
 "cells": [
  {
   "cell_type": "code",
   "execution_count": 4,
   "id": "8385bcb0-c8e8-4d09-bd8e-d3db732c7b78",
   "metadata": {},
   "outputs": [
    {
     "name": "stdout",
     "output_type": "stream",
     "text": [
      "Collecting scikit-mobility\n",
      "  Downloading scikit_mobility-1.3.1-py3-none-any.whl (167 kB)\n",
      "\u001b[2K     \u001b[90m━━━━━━━━━━━━━━━━━━━━━━━━━━━━━━━━━━━━━\u001b[0m \u001b[32m167.7/167.7 kB\u001b[0m \u001b[31m806.0 kB/s\u001b[0m eta \u001b[36m0:00:00\u001b[0ma \u001b[36m0:00:01\u001b[0m\n",
      "\u001b[?25hCollecting pooch<2.0.0,>=1.6.0\n",
      "  Downloading pooch-1.7.0-py3-none-any.whl (60 kB)\n",
      "\u001b[2K     \u001b[90m━━━━━━━━━━━━━━━━━━━━━━━━━━━━━━━━━━━━━━━━\u001b[0m \u001b[32m60.9/60.9 kB\u001b[0m \u001b[31m1.8 MB/s\u001b[0m eta \u001b[36m0:00:00\u001b[0ma \u001b[36m0:00:01\u001b[0m\n",
      "\u001b[?25hCollecting h3<4.0.0,>=3.7.3\n",
      "  Downloading h3-3.7.6-cp310-cp310-manylinux_2_17_x86_64.manylinux2014_x86_64.whl (1.1 MB)\n",
      "\u001b[2K     \u001b[90m━━━━━━━━━━━━━━━━━━━━━━━━━━━━━━━━━━━━━━━━\u001b[0m \u001b[32m1.1/1.1 MB\u001b[0m \u001b[31m3.3 MB/s\u001b[0m eta \u001b[36m0:00:00\u001b[0ma \u001b[36m0:00:01\u001b[0mm\n",
      "\u001b[?25hRequirement already satisfied: requests<3.0.0,>=2.25.1 in /opt/conda/lib/python3.10/site-packages (from scikit-mobility) (2.28.1)\n",
      "Collecting powerlaw<2.0.0,>=1.4.6\n",
      "  Downloading powerlaw-1.5-py3-none-any.whl (24 kB)\n",
      "Requirement already satisfied: pandas<2.0.0,>=1.1.5 in /opt/conda/lib/python3.10/site-packages (from scikit-mobility) (1.4.3)\n",
      "Collecting geojson<3.0.0,>=2.5.0\n",
      "  Downloading geojson-2.5.0-py2.py3-none-any.whl (14 kB)\n",
      "Collecting folium==0.12.1.post1\n",
      "  Downloading folium-0.12.1.post1-py2.py3-none-any.whl (95 kB)\n",
      "\u001b[2K     \u001b[90m━━━━━━━━━━━━━━━━━━━━━━━━━━━━━━━━━━━━━━━━\u001b[0m \u001b[32m95.0/95.0 kB\u001b[0m \u001b[31m7.4 MB/s\u001b[0m eta \u001b[36m0:00:00\u001b[0mta \u001b[36m0:00:01\u001b[0m\n",
      "\u001b[?25hRequirement already satisfied: scikit-learn in /opt/conda/lib/python3.10/site-packages (from scikit-mobility) (1.1.1)\n",
      "Requirement already satisfied: statsmodels<0.14.0,>=0.13.0 in /opt/conda/lib/python3.10/site-packages (from scikit-mobility) (0.13.2)\n",
      "Requirement already satisfied: tqdm<5.0.0,>=4.60.0 in /opt/conda/lib/python3.10/site-packages (from scikit-mobility) (4.64.0)\n",
      "Collecting geopandas<0.11.0,>=0.10.2\n",
      "  Downloading geopandas-0.10.2-py2.py3-none-any.whl (1.0 MB)\n",
      "\u001b[2K     \u001b[90m━━━━━━━━━━━━━━━━━━━━━━━━━━━━━━━━━━━━━━━━\u001b[0m \u001b[32m1.0/1.0 MB\u001b[0m \u001b[31m4.0 MB/s\u001b[0m eta \u001b[36m0:00:00\u001b[0ma \u001b[36m0:00:01\u001b[0m\n",
      "\u001b[?25hCollecting python-igraph<0.10.0,>=0.9.1\n",
      "  Downloading python_igraph-0.9.11-py3-none-any.whl (9.1 kB)\n",
      "Requirement already satisfied: numpy in /opt/conda/lib/python3.10/site-packages (from folium==0.12.1.post1->scikit-mobility) (1.23.3)\n",
      "Requirement already satisfied: jinja2>=2.9 in /opt/conda/lib/python3.10/site-packages (from folium==0.12.1.post1->scikit-mobility) (3.1.2)\n",
      "Requirement already satisfied: branca>=0.3.0 in /opt/conda/lib/python3.10/site-packages (from folium==0.12.1.post1->scikit-mobility) (0.5.0)\n",
      "Requirement already satisfied: shapely>=1.6 in /opt/conda/lib/python3.10/site-packages (from geopandas<0.11.0,>=0.10.2->scikit-mobility) (1.8.5)\n",
      "Requirement already satisfied: pyproj>=2.2.0 in /opt/conda/lib/python3.10/site-packages (from geopandas<0.11.0,>=0.10.2->scikit-mobility) (3.4.0)\n",
      "Requirement already satisfied: fiona>=1.8 in /opt/conda/lib/python3.10/site-packages (from geopandas<0.11.0,>=0.10.2->scikit-mobility) (1.8.21)\n",
      "Requirement already satisfied: python-dateutil>=2.8.1 in /opt/conda/lib/python3.10/site-packages (from pandas<2.0.0,>=1.1.5->scikit-mobility) (2.8.2)\n",
      "Requirement already satisfied: pytz>=2020.1 in /opt/conda/lib/python3.10/site-packages (from pandas<2.0.0,>=1.1.5->scikit-mobility) (2022.1)\n",
      "Requirement already satisfied: platformdirs>=2.5.0 in /opt/conda/lib/python3.10/site-packages (from pooch<2.0.0,>=1.6.0->scikit-mobility) (2.5.2)\n",
      "Requirement already satisfied: packaging>=20.0 in /opt/conda/lib/python3.10/site-packages (from pooch<2.0.0,>=1.6.0->scikit-mobility) (21.3)\n",
      "Requirement already satisfied: mpmath in /opt/conda/lib/python3.10/site-packages (from powerlaw<2.0.0,>=1.4.6->scikit-mobility) (1.2.1)\n",
      "Requirement already satisfied: scipy in /opt/conda/lib/python3.10/site-packages (from powerlaw<2.0.0,>=1.4.6->scikit-mobility) (1.9.1)\n",
      "Requirement already satisfied: matplotlib in /opt/conda/lib/python3.10/site-packages (from powerlaw<2.0.0,>=1.4.6->scikit-mobility) (3.5.2)\n",
      "Collecting igraph==0.9.11\n",
      "  Downloading igraph-0.9.11-cp310-cp310-manylinux_2_17_x86_64.manylinux2014_x86_64.whl (3.2 MB)\n",
      "\u001b[2K     \u001b[90m━━━━━━━━━━━━━━━━━━━━━━━━━━━━━━━━━━━━━━━━\u001b[0m \u001b[32m3.2/3.2 MB\u001b[0m \u001b[31m5.5 MB/s\u001b[0m eta \u001b[36m0:00:00\u001b[0ma \u001b[36m0:00:01\u001b[0m\n",
      "\u001b[?25hCollecting texttable>=1.6.2\n",
      "  Downloading texttable-1.6.7-py2.py3-none-any.whl (10 kB)\n",
      "Requirement already satisfied: certifi>=2017.4.17 in /opt/conda/lib/python3.10/site-packages (from requests<3.0.0,>=2.25.1->scikit-mobility) (2022.6.15)\n",
      "Requirement already satisfied: urllib3<1.27,>=1.21.1 in /opt/conda/lib/python3.10/site-packages (from requests<3.0.0,>=2.25.1->scikit-mobility) (1.26.10)\n",
      "Requirement already satisfied: charset-normalizer<3,>=2 in /opt/conda/lib/python3.10/site-packages (from requests<3.0.0,>=2.25.1->scikit-mobility) (2.1.0)\n",
      "Requirement already satisfied: idna<4,>=2.5 in /opt/conda/lib/python3.10/site-packages (from requests<3.0.0,>=2.25.1->scikit-mobility) (3.3)\n",
      "Requirement already satisfied: patsy>=0.5.2 in /opt/conda/lib/python3.10/site-packages (from statsmodels<0.14.0,>=0.13.0->scikit-mobility) (0.5.2)\n",
      "Requirement already satisfied: joblib>=1.0.0 in /opt/conda/lib/python3.10/site-packages (from scikit-learn->scikit-mobility) (1.1.0)\n",
      "Requirement already satisfied: threadpoolctl>=2.0.0 in /opt/conda/lib/python3.10/site-packages (from scikit-learn->scikit-mobility) (3.1.0)\n",
      "Requirement already satisfied: click-plugins>=1.0 in /opt/conda/lib/python3.10/site-packages (from fiona>=1.8->geopandas<0.11.0,>=0.10.2->scikit-mobility) (1.1.1)\n",
      "Requirement already satisfied: munch in /opt/conda/lib/python3.10/site-packages (from fiona>=1.8->geopandas<0.11.0,>=0.10.2->scikit-mobility) (2.5.0)\n",
      "Requirement already satisfied: cligj>=0.5 in /opt/conda/lib/python3.10/site-packages (from fiona>=1.8->geopandas<0.11.0,>=0.10.2->scikit-mobility) (0.7.2)\n",
      "Requirement already satisfied: click>=4.0 in /opt/conda/lib/python3.10/site-packages (from fiona>=1.8->geopandas<0.11.0,>=0.10.2->scikit-mobility) (8.1.3)\n",
      "Requirement already satisfied: six>=1.7 in /opt/conda/lib/python3.10/site-packages (from fiona>=1.8->geopandas<0.11.0,>=0.10.2->scikit-mobility) (1.16.0)\n",
      "Requirement already satisfied: setuptools in /opt/conda/lib/python3.10/site-packages (from fiona>=1.8->geopandas<0.11.0,>=0.10.2->scikit-mobility) (63.2.0)\n",
      "Requirement already satisfied: attrs>=17 in /opt/conda/lib/python3.10/site-packages (from fiona>=1.8->geopandas<0.11.0,>=0.10.2->scikit-mobility) (21.4.0)\n",
      "Requirement already satisfied: MarkupSafe>=2.0 in /opt/conda/lib/python3.10/site-packages (from jinja2>=2.9->folium==0.12.1.post1->scikit-mobility) (2.1.1)\n",
      "Requirement already satisfied: pyparsing!=3.0.5,>=2.0.2 in /opt/conda/lib/python3.10/site-packages (from packaging>=20.0->pooch<2.0.0,>=1.6.0->scikit-mobility) (3.0.9)\n",
      "Requirement already satisfied: kiwisolver>=1.0.1 in /opt/conda/lib/python3.10/site-packages (from matplotlib->powerlaw<2.0.0,>=1.4.6->scikit-mobility) (1.4.4)\n",
      "Requirement already satisfied: pillow>=6.2.0 in /opt/conda/lib/python3.10/site-packages (from matplotlib->powerlaw<2.0.0,>=1.4.6->scikit-mobility) (9.2.0)\n",
      "Requirement already satisfied: fonttools>=4.22.0 in /opt/conda/lib/python3.10/site-packages (from matplotlib->powerlaw<2.0.0,>=1.4.6->scikit-mobility) (4.34.4)\n",
      "Requirement already satisfied: cycler>=0.10 in /opt/conda/lib/python3.10/site-packages (from matplotlib->powerlaw<2.0.0,>=1.4.6->scikit-mobility) (0.11.0)\n",
      "Installing collected packages: texttable, h3, geojson, igraph, python-igraph, pooch, powerlaw, geopandas, folium, scikit-mobility\n",
      "  Attempting uninstall: geopandas\n",
      "    Found existing installation: geopandas 0.11.1\n",
      "    Uninstalling geopandas-0.11.1:\n",
      "      Successfully uninstalled geopandas-0.11.1\n",
      "  Attempting uninstall: folium\n",
      "    Found existing installation: folium 0.13.0\n",
      "    Uninstalling folium-0.13.0:\n",
      "      Successfully uninstalled folium-0.13.0\n",
      "\u001b[31mERROR: pip's dependency resolver does not currently take into account all the packages that are installed. This behaviour is the source of the following dependency conflicts.\n",
      "osmnx 1.2.2 requires geopandas>=0.11, but you have geopandas 0.10.2 which is incompatible.\u001b[0m\u001b[31m\n",
      "\u001b[0mSuccessfully installed folium-0.12.1.post1 geojson-2.5.0 geopandas-0.10.2 h3-3.7.6 igraph-0.9.11 pooch-1.7.0 powerlaw-1.5 python-igraph-0.9.11 scikit-mobility-1.3.1 texttable-1.6.7\n",
      "Note: you may need to restart the kernel to use updated packages.\n"
     ]
    }
   ],
   "source": [
    "pip install scikit-mobility  "
   ]
  },
  {
   "cell_type": "code",
   "execution_count": null,
   "id": "6b396f56-3a09-40d4-9be5-bbb75ed3275b",
   "metadata": {},
   "outputs": [],
   "source": []
  }
 ],
 "metadata": {
  "kernelspec": {
   "display_name": "Python 3 (ipykernel)",
   "language": "python",
   "name": "python3"
  },
  "language_info": {
   "codemirror_mode": {
    "name": "ipython",
    "version": 3
   },
   "file_extension": ".py",
   "mimetype": "text/x-python",
   "name": "python",
   "nbconvert_exporter": "python",
   "pygments_lexer": "ipython3",
   "version": "3.10.5"
  }
 },
 "nbformat": 4,
 "nbformat_minor": 5
}
