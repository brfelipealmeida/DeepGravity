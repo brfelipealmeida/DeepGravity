{
  "nbformat": 4,
  "nbformat_minor": 0,
  "metadata": {
    "colab": {
      "provenance": [],
      "authorship_tag": "ABX9TyNOqJXBhQHoldMWS1XUmO/7",
      "include_colab_link": true
    },
    "kernelspec": {
      "name": "python3",
      "display_name": "Python 3"
    },
    "language_info": {
      "name": "python"
    }
  },
  "cells": [
    {
      "cell_type": "markdown",
      "metadata": {
        "id": "view-in-github",
        "colab_type": "text"
      },
      "source": [
        "<a href=\"https://colab.research.google.com/github/brfelipealmeida/DeepGravity/blob/master/Locomizer.ipynb\" target=\"_parent\"><img src=\"https://colab.research.google.com/assets/colab-badge.svg\" alt=\"Open In Colab\"/></a>"
      ]
    },
    {
      "cell_type": "code",
      "source": [
        "from google.colab import drive\n",
        "drive.mount('/content/drive')"
      ],
      "metadata": {
        "colab": {
          "base_uri": "https://localhost:8080/"
        },
        "id": "0If77UQiMXdo",
        "outputId": "7522ebe4-074c-4fbd-c52a-d29e9aed6633"
      },
      "execution_count": null,
      "outputs": [
        {
          "output_type": "stream",
          "name": "stdout",
          "text": [
            "Drive already mounted at /content/drive; to attempt to forcibly remount, call drive.mount(\"/content/drive\", force_remount=True).\n"
          ]
        }
      ]
    },
    {
      "cell_type": "code",
      "source": [
        "import csv\n",
        "\n",
        "# Open the TSV file in read mode\n",
        "with open('/content/drive/My Drive/Colab Notebooks/Audience_Profiles_Destination_2023-03-01.tsv', 'r', newline='') as tsvfile:\n",
        "      # Create a reader object using the TSV file\n",
        "    reader = csv.reader(tsvfile, delimiter='\\t')"
      ],
      "metadata": {
        "id": "h0IgRawYI7g7"
      },
      "execution_count": null,
      "outputs": []
    },
    {
      "cell_type": "code",
      "source": [
        "import pandas as pd\n",
        "\n",
        "# Read the TSV file into a DataFrame\n",
        "df = pd.read_csv('/content/drive/My Drive/Colab Notebooks/Audience_Profiles_Destination_2023-03-01.tsv', delimiter='\\t')\n",
        "\n",
        "# Display the DataFrame\n",
        "print(df)"
      ],
      "metadata": {
        "colab": {
          "base_uri": "https://localhost:8080/"
        },
        "id": "OSNDcshKMh-b",
        "outputId": "aa893f2a-5903-497d-a9d4-7469d9c5a38a"
      },
      "execution_count": null,
      "outputs": [
        {
          "output_type": "stream",
          "name": "stdout",
          "text": [
            "         DESTINATION_CODE      ORIGIN_CODE  TIME INTERVAL         DAY  \\\n",
            "0         89195dae2b7ffff  89195dae2b7ffff            0.0  2023-03-01   \n",
            "1         89195da62b7ffff  89195da62b7ffff            0.0  2023-03-01   \n",
            "2         89195da62b3ffff  89195da62b3ffff            0.0  2023-03-01   \n",
            "3         89195da62bbffff  89195da62bbffff            0.0  2023-03-01   \n",
            "4         89195dae2bbffff  89195dae2bbffff            0.0  2023-03-01   \n",
            "...                   ...              ...            ...         ...   \n",
            "10538032  89194aca38bffff                0           19.0  2023-03-01   \n",
            "10538033  89194aca38fffff                0           19.0  2023-03-01   \n",
            "10538034  89194ac2393ffff                0           19.0  2023-03-01   \n",
            "10538035  89194aca393ffff                0           19.0  2023-03-01   \n",
            "10538036  89194ac2397ffff                0           19.0  2023-03-01   \n",
            "\n",
            "          DAY_TYPE  MONTH    YEAR MOVEMENT_MODALITY VISITATION_MODALITY  \\\n",
            "0              3.0    3.0  2023.0               ALL             WORKERS   \n",
            "1              3.0    3.0  2023.0               ALL             WORKERS   \n",
            "2              3.0    3.0  2023.0               ALL             WORKERS   \n",
            "3              3.0    3.0  2023.0               ALL             WORKERS   \n",
            "4              3.0    3.0  2023.0               ALL             WORKERS   \n",
            "...            ...    ...     ...               ...                 ...   \n",
            "10538032       3.0    3.0  2023.0       PEDESTRIANS                 ALL   \n",
            "10538033       3.0    3.0  2023.0       PEDESTRIANS                 ALL   \n",
            "10538034       3.0    3.0  2023.0       PEDESTRIANS                 ALL   \n",
            "10538035       3.0    3.0  2023.0       PEDESTRIANS                 ALL   \n",
            "10538036       3.0    3.0  2023.0       PEDESTRIANS                 ALL   \n",
            "\n",
            "          NUMBER_OF_USERS  NUMBER_OF_SIGNALS  DWELL_TIME  \\\n",
            "0                     5.0                6.0    2.964145   \n",
            "1                     2.0                2.0    0.726285   \n",
            "2                     3.0                9.0    2.187190   \n",
            "3                     2.0                2.0    2.273902   \n",
            "4                     3.0                5.0    1.830020   \n",
            "...                   ...                ...         ...   \n",
            "10538032              0.0                0.0    0.000000   \n",
            "10538033              0.0                0.0    0.000000   \n",
            "10538034              0.0                0.0    0.000000   \n",
            "10538035              0.0                0.0    0.000000   \n",
            "10538036              0.0                0.0    0.000000   \n",
            "\n",
            "          EXTRAPOLATED_NUMBER_OF_USERS  EXTRAPOLATED_NUMBER_OF_SIGNALS  \\\n",
            "0                                119.0                           143.0   \n",
            "1                                 47.0                            47.0   \n",
            "2                                 71.0                           214.0   \n",
            "3                                 47.0                            47.0   \n",
            "4                                 71.0                           119.0   \n",
            "...                                ...                             ...   \n",
            "10538032                           0.0                             0.0   \n",
            "10538033                           0.0                             0.0   \n",
            "10538034                           0.0                             0.0   \n",
            "10538035                           0.0                             0.0   \n",
            "10538036                           0.0                             0.0   \n",
            "\n",
            "          PROPORTION_OF_USERS  \n",
            "0                    0.060241  \n",
            "1                    0.030303  \n",
            "2                    0.076923  \n",
            "3                    0.006969  \n",
            "4                    0.069767  \n",
            "...                       ...  \n",
            "10538032             0.000000  \n",
            "10538033             0.000000  \n",
            "10538034             0.000000  \n",
            "10538035             0.000000  \n",
            "10538036             0.000000  \n",
            "\n",
            "[10538037 rows x 15 columns]\n"
          ]
        }
      ]
    },
    {
      "cell_type": "code",
      "source": [
        "df.info()"
      ],
      "metadata": {
        "colab": {
          "base_uri": "https://localhost:8080/"
        },
        "id": "JUd5V7XFOrLf",
        "outputId": "af6b6a62-dd80-4b17-c202-fa0d00ebe4a3"
      },
      "execution_count": null,
      "outputs": [
        {
          "output_type": "stream",
          "name": "stdout",
          "text": [
            "<class 'pandas.core.frame.DataFrame'>\n",
            "RangeIndex: 10538037 entries, 0 to 10538036\n",
            "Data columns (total 15 columns):\n",
            " #   Column                          Dtype  \n",
            "---  ------                          -----  \n",
            " 0   DESTINATION_CODE                object \n",
            " 1   ORIGIN_CODE                     object \n",
            " 2   TIME INTERVAL                   float64\n",
            " 3   DAY                             object \n",
            " 4   DAY_TYPE                        float64\n",
            " 5   MONTH                           float64\n",
            " 6   YEAR                            float64\n",
            " 7   MOVEMENT_MODALITY               object \n",
            " 8   VISITATION_MODALITY             object \n",
            " 9   NUMBER_OF_USERS                 float64\n",
            " 10  NUMBER_OF_SIGNALS               float64\n",
            " 11  DWELL_TIME                      float64\n",
            " 12  EXTRAPOLATED_NUMBER_OF_USERS    float64\n",
            " 13  EXTRAPOLATED_NUMBER_OF_SIGNALS  float64\n",
            " 14  PROPORTION_OF_USERS             float64\n",
            "dtypes: float64(10), object(5)\n",
            "memory usage: 1.2+ GB\n"
          ]
        }
      ]
    },
    {
      "cell_type": "code",
      "source": [
        "df.head()"
      ],
      "metadata": {
        "colab": {
          "base_uri": "https://localhost:8080/",
          "height": 206
        },
        "id": "5VHkp482O8Jg",
        "outputId": "3ab6ea5c-d515-4dbe-b9d3-72ae1c0e0bd4"
      },
      "execution_count": null,
      "outputs": [
        {
          "output_type": "execute_result",
          "data": {
            "text/plain": [
              "  DESTINATION_CODE      ORIGIN_CODE  TIME INTERVAL         DAY  DAY_TYPE  \\\n",
              "0  89195dae2b7ffff  89195dae2b7ffff            0.0  2023-03-01       3.0   \n",
              "1  89195da62b7ffff  89195da62b7ffff            0.0  2023-03-01       3.0   \n",
              "2  89195da62b3ffff  89195da62b3ffff            0.0  2023-03-01       3.0   \n",
              "3  89195da62bbffff  89195da62bbffff            0.0  2023-03-01       3.0   \n",
              "4  89195dae2bbffff  89195dae2bbffff            0.0  2023-03-01       3.0   \n",
              "\n",
              "   MONTH    YEAR MOVEMENT_MODALITY VISITATION_MODALITY  NUMBER_OF_USERS  \\\n",
              "0    3.0  2023.0               ALL             WORKERS              5.0   \n",
              "1    3.0  2023.0               ALL             WORKERS              2.0   \n",
              "2    3.0  2023.0               ALL             WORKERS              3.0   \n",
              "3    3.0  2023.0               ALL             WORKERS              2.0   \n",
              "4    3.0  2023.0               ALL             WORKERS              3.0   \n",
              "\n",
              "   NUMBER_OF_SIGNALS  DWELL_TIME  EXTRAPOLATED_NUMBER_OF_USERS  \\\n",
              "0                6.0    2.964145                         119.0   \n",
              "1                2.0    0.726285                          47.0   \n",
              "2                9.0    2.187190                          71.0   \n",
              "3                2.0    2.273902                          47.0   \n",
              "4                5.0    1.830020                          71.0   \n",
              "\n",
              "   EXTRAPOLATED_NUMBER_OF_SIGNALS  PROPORTION_OF_USERS  \n",
              "0                           143.0             0.060241  \n",
              "1                            47.0             0.030303  \n",
              "2                           214.0             0.076923  \n",
              "3                            47.0             0.006969  \n",
              "4                           119.0             0.069767  "
            ],
            "text/html": [
              "\n",
              "  <div id=\"df-e99cd4b9-036b-4a0b-b3b2-abed937d3799\">\n",
              "    <div class=\"colab-df-container\">\n",
              "      <div>\n",
              "<style scoped>\n",
              "    .dataframe tbody tr th:only-of-type {\n",
              "        vertical-align: middle;\n",
              "    }\n",
              "\n",
              "    .dataframe tbody tr th {\n",
              "        vertical-align: top;\n",
              "    }\n",
              "\n",
              "    .dataframe thead th {\n",
              "        text-align: right;\n",
              "    }\n",
              "</style>\n",
              "<table border=\"1\" class=\"dataframe\">\n",
              "  <thead>\n",
              "    <tr style=\"text-align: right;\">\n",
              "      <th></th>\n",
              "      <th>DESTINATION_CODE</th>\n",
              "      <th>ORIGIN_CODE</th>\n",
              "      <th>TIME INTERVAL</th>\n",
              "      <th>DAY</th>\n",
              "      <th>DAY_TYPE</th>\n",
              "      <th>MONTH</th>\n",
              "      <th>YEAR</th>\n",
              "      <th>MOVEMENT_MODALITY</th>\n",
              "      <th>VISITATION_MODALITY</th>\n",
              "      <th>NUMBER_OF_USERS</th>\n",
              "      <th>NUMBER_OF_SIGNALS</th>\n",
              "      <th>DWELL_TIME</th>\n",
              "      <th>EXTRAPOLATED_NUMBER_OF_USERS</th>\n",
              "      <th>EXTRAPOLATED_NUMBER_OF_SIGNALS</th>\n",
              "      <th>PROPORTION_OF_USERS</th>\n",
              "    </tr>\n",
              "  </thead>\n",
              "  <tbody>\n",
              "    <tr>\n",
              "      <th>0</th>\n",
              "      <td>89195dae2b7ffff</td>\n",
              "      <td>89195dae2b7ffff</td>\n",
              "      <td>0.0</td>\n",
              "      <td>2023-03-01</td>\n",
              "      <td>3.0</td>\n",
              "      <td>3.0</td>\n",
              "      <td>2023.0</td>\n",
              "      <td>ALL</td>\n",
              "      <td>WORKERS</td>\n",
              "      <td>5.0</td>\n",
              "      <td>6.0</td>\n",
              "      <td>2.964145</td>\n",
              "      <td>119.0</td>\n",
              "      <td>143.0</td>\n",
              "      <td>0.060241</td>\n",
              "    </tr>\n",
              "    <tr>\n",
              "      <th>1</th>\n",
              "      <td>89195da62b7ffff</td>\n",
              "      <td>89195da62b7ffff</td>\n",
              "      <td>0.0</td>\n",
              "      <td>2023-03-01</td>\n",
              "      <td>3.0</td>\n",
              "      <td>3.0</td>\n",
              "      <td>2023.0</td>\n",
              "      <td>ALL</td>\n",
              "      <td>WORKERS</td>\n",
              "      <td>2.0</td>\n",
              "      <td>2.0</td>\n",
              "      <td>0.726285</td>\n",
              "      <td>47.0</td>\n",
              "      <td>47.0</td>\n",
              "      <td>0.030303</td>\n",
              "    </tr>\n",
              "    <tr>\n",
              "      <th>2</th>\n",
              "      <td>89195da62b3ffff</td>\n",
              "      <td>89195da62b3ffff</td>\n",
              "      <td>0.0</td>\n",
              "      <td>2023-03-01</td>\n",
              "      <td>3.0</td>\n",
              "      <td>3.0</td>\n",
              "      <td>2023.0</td>\n",
              "      <td>ALL</td>\n",
              "      <td>WORKERS</td>\n",
              "      <td>3.0</td>\n",
              "      <td>9.0</td>\n",
              "      <td>2.187190</td>\n",
              "      <td>71.0</td>\n",
              "      <td>214.0</td>\n",
              "      <td>0.076923</td>\n",
              "    </tr>\n",
              "    <tr>\n",
              "      <th>3</th>\n",
              "      <td>89195da62bbffff</td>\n",
              "      <td>89195da62bbffff</td>\n",
              "      <td>0.0</td>\n",
              "      <td>2023-03-01</td>\n",
              "      <td>3.0</td>\n",
              "      <td>3.0</td>\n",
              "      <td>2023.0</td>\n",
              "      <td>ALL</td>\n",
              "      <td>WORKERS</td>\n",
              "      <td>2.0</td>\n",
              "      <td>2.0</td>\n",
              "      <td>2.273902</td>\n",
              "      <td>47.0</td>\n",
              "      <td>47.0</td>\n",
              "      <td>0.006969</td>\n",
              "    </tr>\n",
              "    <tr>\n",
              "      <th>4</th>\n",
              "      <td>89195dae2bbffff</td>\n",
              "      <td>89195dae2bbffff</td>\n",
              "      <td>0.0</td>\n",
              "      <td>2023-03-01</td>\n",
              "      <td>3.0</td>\n",
              "      <td>3.0</td>\n",
              "      <td>2023.0</td>\n",
              "      <td>ALL</td>\n",
              "      <td>WORKERS</td>\n",
              "      <td>3.0</td>\n",
              "      <td>5.0</td>\n",
              "      <td>1.830020</td>\n",
              "      <td>71.0</td>\n",
              "      <td>119.0</td>\n",
              "      <td>0.069767</td>\n",
              "    </tr>\n",
              "  </tbody>\n",
              "</table>\n",
              "</div>\n",
              "      <button class=\"colab-df-convert\" onclick=\"convertToInteractive('df-e99cd4b9-036b-4a0b-b3b2-abed937d3799')\"\n",
              "              title=\"Convert this dataframe to an interactive table.\"\n",
              "              style=\"display:none;\">\n",
              "        \n",
              "  <svg xmlns=\"http://www.w3.org/2000/svg\" height=\"24px\"viewBox=\"0 0 24 24\"\n",
              "       width=\"24px\">\n",
              "    <path d=\"M0 0h24v24H0V0z\" fill=\"none\"/>\n",
              "    <path d=\"M18.56 5.44l.94 2.06.94-2.06 2.06-.94-2.06-.94-.94-2.06-.94 2.06-2.06.94zm-11 1L8.5 8.5l.94-2.06 2.06-.94-2.06-.94L8.5 2.5l-.94 2.06-2.06.94zm10 10l.94 2.06.94-2.06 2.06-.94-2.06-.94-.94-2.06-.94 2.06-2.06.94z\"/><path d=\"M17.41 7.96l-1.37-1.37c-.4-.4-.92-.59-1.43-.59-.52 0-1.04.2-1.43.59L10.3 9.45l-7.72 7.72c-.78.78-.78 2.05 0 2.83L4 21.41c.39.39.9.59 1.41.59.51 0 1.02-.2 1.41-.59l7.78-7.78 2.81-2.81c.8-.78.8-2.07 0-2.86zM5.41 20L4 18.59l7.72-7.72 1.47 1.35L5.41 20z\"/>\n",
              "  </svg>\n",
              "      </button>\n",
              "      \n",
              "  <style>\n",
              "    .colab-df-container {\n",
              "      display:flex;\n",
              "      flex-wrap:wrap;\n",
              "      gap: 12px;\n",
              "    }\n",
              "\n",
              "    .colab-df-convert {\n",
              "      background-color: #E8F0FE;\n",
              "      border: none;\n",
              "      border-radius: 50%;\n",
              "      cursor: pointer;\n",
              "      display: none;\n",
              "      fill: #1967D2;\n",
              "      height: 32px;\n",
              "      padding: 0 0 0 0;\n",
              "      width: 32px;\n",
              "    }\n",
              "\n",
              "    .colab-df-convert:hover {\n",
              "      background-color: #E2EBFA;\n",
              "      box-shadow: 0px 1px 2px rgba(60, 64, 67, 0.3), 0px 1px 3px 1px rgba(60, 64, 67, 0.15);\n",
              "      fill: #174EA6;\n",
              "    }\n",
              "\n",
              "    [theme=dark] .colab-df-convert {\n",
              "      background-color: #3B4455;\n",
              "      fill: #D2E3FC;\n",
              "    }\n",
              "\n",
              "    [theme=dark] .colab-df-convert:hover {\n",
              "      background-color: #434B5C;\n",
              "      box-shadow: 0px 1px 3px 1px rgba(0, 0, 0, 0.15);\n",
              "      filter: drop-shadow(0px 1px 2px rgba(0, 0, 0, 0.3));\n",
              "      fill: #FFFFFF;\n",
              "    }\n",
              "  </style>\n",
              "\n",
              "      <script>\n",
              "        const buttonEl =\n",
              "          document.querySelector('#df-e99cd4b9-036b-4a0b-b3b2-abed937d3799 button.colab-df-convert');\n",
              "        buttonEl.style.display =\n",
              "          google.colab.kernel.accessAllowed ? 'block' : 'none';\n",
              "\n",
              "        async function convertToInteractive(key) {\n",
              "          const element = document.querySelector('#df-e99cd4b9-036b-4a0b-b3b2-abed937d3799');\n",
              "          const dataTable =\n",
              "            await google.colab.kernel.invokeFunction('convertToInteractive',\n",
              "                                                     [key], {});\n",
              "          if (!dataTable) return;\n",
              "\n",
              "          const docLinkHtml = 'Like what you see? Visit the ' +\n",
              "            '<a target=\"_blank\" href=https://colab.research.google.com/notebooks/data_table.ipynb>data table notebook</a>'\n",
              "            + ' to learn more about interactive tables.';\n",
              "          element.innerHTML = '';\n",
              "          dataTable['output_type'] = 'display_data';\n",
              "          await google.colab.output.renderOutput(dataTable, element);\n",
              "          const docLink = document.createElement('div');\n",
              "          docLink.innerHTML = docLinkHtml;\n",
              "          element.appendChild(docLink);\n",
              "        }\n",
              "      </script>\n",
              "    </div>\n",
              "  </div>\n",
              "  "
            ]
          },
          "metadata": {},
          "execution_count": 29
        }
      ]
    },
    {
      "cell_type": "code",
      "source": [
        "visit_mod = df['VISITATION_MODALITY'].unique().tolist()\n",
        "visit_mod"
      ],
      "metadata": {
        "colab": {
          "base_uri": "https://localhost:8080/"
        },
        "id": "uoc5Z3ITQabG",
        "outputId": "f3790769-a89c-4df1-dde0-d2f2f7920f3f"
      },
      "execution_count": null,
      "outputs": [
        {
          "output_type": "execute_result",
          "data": {
            "text/plain": [
              "['WORKERS', '0', 'ALL']"
            ]
          },
          "metadata": {},
          "execution_count": 30
        }
      ]
    },
    {
      "cell_type": "code",
      "source": [
        "mov_mod = df['MOVEMENT_MODALITY'].unique().tolist()\n",
        "mov_mod"
      ],
      "metadata": {
        "colab": {
          "base_uri": "https://localhost:8080/"
        },
        "id": "IQGniLlZQjet",
        "outputId": "8c4111b2-d812-457a-e621-14ec2d93c6fd"
      },
      "execution_count": null,
      "outputs": [
        {
          "output_type": "execute_result",
          "data": {
            "text/plain": [
              "['ALL', '0', 'PEDESTRIANS', 'NON_PEDESTRIANS']"
            ]
          },
          "metadata": {},
          "execution_count": 31
        }
      ]
    },
    {
      "cell_type": "code",
      "source": [
        "import json\n",
        "import pandas as pd\n",
        "\n",
        "# Read the JSON file\n",
        "with open('/content/drive/My Drive/Colab Notebooks/GL_gid9_grid.json', 'r') as json_file:\n",
        "    data = json.load(json_file)\n",
        "\n",
        "# Create a DataFrame from the JSON data\n",
        "df_json = pd.DataFrame(data)\n",
        "\n",
        "# Display the DataFrame\n",
        "print(df_json)\n"
      ],
      "metadata": {
        "colab": {
          "base_uri": "https://localhost:8080/"
        },
        "id": "VcewBZ57RZg9",
        "outputId": "14dffd0a-264f-4841-d337-a66a31c3ab89"
      },
      "execution_count": null,
      "outputs": [
        {
          "output_type": "stream",
          "name": "stdout",
          "text": [
            "                    type                                           features\n",
            "0      FeatureCollection  {'type': 'Feature', 'geometry': {'type': 'Poly...\n",
            "1      FeatureCollection  {'type': 'Feature', 'geometry': {'type': 'Poly...\n",
            "2      FeatureCollection  {'type': 'Feature', 'geometry': {'type': 'Poly...\n",
            "3      FeatureCollection  {'type': 'Feature', 'geometry': {'type': 'Poly...\n",
            "4      FeatureCollection  {'type': 'Feature', 'geometry': {'type': 'Poly...\n",
            "...                  ...                                                ...\n",
            "17631  FeatureCollection  {'type': 'Feature', 'geometry': {'type': 'Poly...\n",
            "17632  FeatureCollection  {'type': 'Feature', 'geometry': {'type': 'Poly...\n",
            "17633  FeatureCollection  {'type': 'Feature', 'geometry': {'type': 'Poly...\n",
            "17634  FeatureCollection  {'type': 'Feature', 'geometry': {'type': 'Poly...\n",
            "17635  FeatureCollection  {'type': 'Feature', 'geometry': {'type': 'Poly...\n",
            "\n",
            "[17636 rows x 2 columns]\n"
          ]
        }
      ]
    }
  ]
}